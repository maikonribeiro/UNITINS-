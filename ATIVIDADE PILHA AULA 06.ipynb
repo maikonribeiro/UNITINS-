{
 "cells": [
  {
   "cell_type": "code",
   "execution_count": 1,
   "metadata": {},
   "outputs": [],
   "source": [
    "class Pilha:\n",
    "    def __init__(self):\n",
    "        self.items = []\n",
    "\n",
    "    def is_vazia(self):\n",
    "        return self.items == []\n",
    "\n",
    "    def push(self, item):\n",
    "        self.items.append(item)\n",
    "\n",
    "    def pop(self):\n",
    "        return self.items.pop()\n",
    "\n",
    "\n",
    "def inverter_string(string):\n",
    "    pilha = Pilha()\n",
    "    # Inserir cada caractere da string na pilha\n",
    "    for caractere in string:\n",
    "        pilha.push(caractere)\n",
    "    \n",
    "    # Remover e imprimir os caracteres em ordem reversa\n",
    "    string_invertida = \"\"\n",
    "    while not pilha.is_vazia():\n",
    "        string_invertida += pilha.pop()\n",
    "\n",
    "    return string_invertida"
   ]
  },
  {
   "cell_type": "code",
   "execution_count": 2,
   "metadata": {},
   "outputs": [
    {
     "name": "stdout",
     "output_type": "stream",
     "text": [
      "String original: Olá, mundo!\n",
      "String invertida: !odnum ,álO\n",
      "--------------------\n",
      "String original: 1234567890\n",
      "String invertida: 0987654321\n",
      "--------------------\n",
      "String original: Python é incrível\n",
      "String invertida: levírcni é nohtyP\n",
      "--------------------\n",
      "String original: racecar\n",
      "String invertida: racecar\n",
      "--------------------\n",
      "String original: hello world\n",
      "String invertida: dlrow olleh\n",
      "--------------------\n"
     ]
    }
   ],
   "source": [
    "# Testes\n",
    "strings = [\n",
    "    \"Olá, mundo!\",\n",
    "    \"1234567890\",\n",
    "    \"Python é incrível\",\n",
    "    \"racecar\",\n",
    "    \"hello world\"\n",
    "]\n",
    "\n",
    "for string in strings:\n",
    "    resultado = inverter_string(string)\n",
    "    print(f\"String original: {string}\")\n",
    "    print(f\"String invertida: {resultado}\")\n",
    "    print(\"-\" * 20)"
   ]
  }
 ],
 "metadata": {
  "kernelspec": {
   "display_name": "Python 3",
   "language": "python",
   "name": "python3"
  },
  "language_info": {
   "codemirror_mode": {
    "name": "ipython",
    "version": 3
   },
   "file_extension": ".py",
   "mimetype": "text/x-python",
   "name": "python",
   "nbconvert_exporter": "python",
   "pygments_lexer": "ipython3",
   "version": "3.11.8"
  }
 },
 "nbformat": 4,
 "nbformat_minor": 2
}
